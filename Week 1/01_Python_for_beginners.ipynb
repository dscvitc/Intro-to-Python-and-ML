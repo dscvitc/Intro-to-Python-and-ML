{
  "nbformat": 4,
  "nbformat_minor": 0,
  "metadata": {
    "kernelspec": {
      "display_name": "Python 3",
      "language": "python",
      "name": "python3"
    },
    "language_info": {
      "codemirror_mode": {
        "name": "ipython",
        "version": 3
      },
      "file_extension": ".py",
      "mimetype": "text/x-python",
      "name": "python",
      "nbconvert_exporter": "python",
      "pygments_lexer": "ipython3",
      "version": "3.7.3"
    },
    "colab": {
      "name": "01_Python_for_beginners.ipynb",
      "provenance": []
    }
  },
  "cells": [
    {
      "cell_type": "markdown",
      "metadata": {
        "id": "Gv346CtseIku"
      },
      "source": [
        "# Welcome to Python for Beginners!"
      ]
    },
    {
      "cell_type": "markdown",
      "metadata": {
        "id": "cR4e6QtZeIkv"
      },
      "source": [
        "## Why Python ?\n",
        "\n",
        "- Easy to read\n",
        "- Used by tech giants like Google,Facebook, Microsoft,Amazon and many more...\n",
        "- Less verbose syntactically\n",
        "- Dynamically Typed\n"
      ]
    },
    {
      "cell_type": "markdown",
      "metadata": {
        "id": "XYoWLcc3eIkw"
      },
      "source": [
        "# We'll be covering :\n",
        "- Why Python ?\n",
        "- Advantages and Applications\n",
        "- Hello, World\n",
        "- Comments\n",
        "- Variables\n",
        "- Operators\n"
      ]
    },
    {
      "cell_type": "markdown",
      "metadata": {
        "id": "vJoh-X2GeIkx"
      },
      "source": [
        "## Advantages of Python\n",
        "- Easy to learn\n",
        "- User-friendly data structures\n",
        "- High-level language\n",
        "\n",
        "## Applications\n",
        "- Machine Learning, Deep Learning\n",
        "- Data Visualisation\n",
        "- Web Designing (Django,Flask)\n",
        "- Web Mining and Web Scraping and much more\n",
        "\n",
        "\n",
        "\n"
      ]
    },
    {
      "cell_type": "markdown",
      "metadata": {
        "id": "k7ihIcqAeIky"
      },
      "source": [
        "# Hello, World"
      ]
    },
    {
      "cell_type": "code",
      "metadata": {
        "id": "vl11FQRjeIkz",
        "outputId": "accd88dd-9733-45e4-a8ff-42aa8faf0b65"
      },
      "source": [
        "print(\"Hello, World :D \")"
      ],
      "execution_count": null,
      "outputs": [
        {
          "output_type": "stream",
          "text": [
            "Hello, World :D \n"
          ],
          "name": "stdout"
        }
      ]
    },
    {
      "cell_type": "markdown",
      "metadata": {
        "id": "-bu8ezhveIk1"
      },
      "source": [
        "# Comments\n",
        "\n",
        "- In computer programming in general, a comment is a programmer-readable explanation or annotation in the source code of a computer program. They are added with the purpose of making the source code easier for humans to understand, and are generally ignored by compilers and interpreters.\n",
        "\n",
        "- So if you want to write good code, by good code we mean code which is easy to maintain, understand and modifiable as per different requirements from time to time then you need to have comments in your code.\n",
        "\n",
        "[Click here](https://realpython.com/python-comments-guide/) to know more about comments and Why it's a good programming practice.\n",
        "Python can have 2 types of comments :\n",
        "\n",
        "1. Inline Comments\n",
        "2. Multi-line Comments\n",
        "\n",
        "Say you want to debug your code or want to check functionality of a certain block of code then also comment is a good feature to have."
      ]
    },
    {
      "cell_type": "code",
      "metadata": {
        "id": "IHV8Vy_qeIk3",
        "outputId": "87bbc101-bcfa-4b7e-a7e8-a33263a23ed5"
      },
      "source": [
        "print(\"This will run.\")  # This won't run"
      ],
      "execution_count": null,
      "outputs": [
        {
          "output_type": "stream",
          "text": [
            "This will run.\n"
          ],
          "name": "stdout"
        }
      ]
    },
    {
      "cell_type": "markdown",
      "metadata": {
        "id": "7Zqcb2MseIk4"
      },
      "source": [
        "# Variables"
      ]
    },
    {
      "cell_type": "code",
      "metadata": {
        "colab": {
          "base_uri": "https://localhost:8080/"
        },
        "id": "PJA4pepKeIk4",
        "outputId": "5fe86a14-67b1-4a6e-fba6-1ce865d444fa"
      },
      "source": [
        "a = 1 # A variable with value 1 assigned. \n",
        "print(\"Value of a is : \",a)\n",
        "\n",
        "# Checking the data type a variable belongs to\n",
        "\n",
        "print(\"Data type of A is :\", type(a))\n",
        "# Notice how you don't need to define type of variable as you would in C,C++ or JAVA. That's what dynamically typed language means.\n",
        "print(\"\\n\")\n",
        "#  Changing the data type of a variable on the fly\n",
        "a = \"Hello\"\n",
        "print(\"Value of a is : \",a)\n",
        "print(\"Data type of A is :\", type(a))\n",
        "print(\"\\n\")\n",
        "a = 1.5\n",
        "print(\"Value of a is : \",a)\n",
        "print(\"Data type of A is :\", type(a))\n"
      ],
      "execution_count": null,
      "outputs": [
        {
          "output_type": "stream",
          "text": [
            "Value of a is :  1\n",
            "Data type of A is : <class 'int'>\n",
            "\n",
            "\n",
            "Value of a is :  Hello\n",
            "Data type of A is : <class 'str'>\n",
            "\n",
            "\n",
            "Value of a is :  1.5\n",
            "Data type of A is : <class 'float'>\n"
          ],
          "name": "stdout"
        }
      ]
    },
    {
      "cell_type": "markdown",
      "metadata": {
        "id": "esJDyyjeeIk5"
      },
      "source": [
        "# Operators\n",
        "\n",
        "## Arithmetic Operators\n",
        "\n",
        "| Operator | Description                                                  | Syntax |\n",
        "| -------- | ------------------------------------------------------------ | ------ |\n",
        "| +        | Addition: adds two operands                                  | x+y    |\n",
        "| -        | Subtraction: subtracts two operands                          | x-y    |\n",
        "| *        | Multiplication: multiplies two operands                      | x*y    |\n",
        "| /        | Division (float): divides the first operand by the second    | x/y    |\n",
        "| //       | Division (floor): divides the first operand by the second    | x//y   |\n",
        "| %        | Modulus: returns the remainder when first operand is divided by the second | x%y    |\n",
        "\n"
      ]
    },
    {
      "cell_type": "code",
      "metadata": {
        "id": "0H4UZTN0eIk6"
      },
      "source": [
        "# Arithmetic Operators - Illustration\n",
        "# Examples of Arithmetic Operator \n",
        "a = 9\n",
        "b = 4\n",
        "  \n",
        "# Addition of numbers \n",
        "add = a + b \n",
        "print(\"a + b = \",add)\n",
        "print(\"\\n\")\n",
        "# Subtraction of numbers  \n",
        "sub = a - b\n",
        "print(\"a - b = \",sub)\n",
        "print(\"\\n\")\n",
        "# Multiplication of number  \n",
        "mul = a * b \n",
        "print(\"a * b = \",mul)\n",
        "print(\"\\n\")\n",
        "# Division(float) of number  \n",
        "div1 = a / b\n",
        "print(\"a / b = \",div1)\n",
        "print(\"\\n\")\n",
        "# Division(floor) of number  \n",
        "div2 = a // b\n",
        "print(\"a // b = \",div2)\n",
        "print(\"\\n\")\n",
        "# Modulo of both number \n",
        "mod = a % b\n",
        "print(\"a % b = \",mod)"
      ],
      "execution_count": null,
      "outputs": []
    },
    {
      "cell_type": "markdown",
      "metadata": {
        "id": "-s96fY72eIk6"
      },
      "source": [
        "## Relational Operators\n",
        "| Operator | Description                                                  | Syntax |\n",
        "| -------- | ------------------------------------------------------------ | ------ |\n",
        "| >        | Greater than: True if left operand is greater than the right | x > y  |\n",
        "| <        | Less than: True if left operand is less than the right       | x < y  |\n",
        "| ==       | Is Equal to ?: True if both operands are equal               | x == y |\n",
        "| !=       | Not equal to - True if operands are not equal                | x != y |\n",
        "| >=       | Greater than or equal to: True if left operand is greater than or equal to the right | x >= y |\n",
        "| <=       | Less than or equal to: True if left operand is less than or equal to the right | x <= y |"
      ]
    },
    {
      "cell_type": "code",
      "metadata": {
        "id": "Sbpr_WvleIk7"
      },
      "source": [
        "# Examples of Relational Operators \n",
        "a = 13\n",
        "b = 33\n",
        "  \n",
        "# a > b is False \n",
        "print(\"a > b : \",a > b)\n",
        "  \n",
        "# a < b is True \n",
        "print(\"a < b : \",a < b) \n",
        "  \n",
        "# a == b is False \n",
        "print(\"a == b : \",a == b) \n",
        "  \n",
        "# a != b is True \n",
        "print(\"a != b : \",a != b) \n",
        "  \n",
        "# a >= b is False \n",
        "print(\"a >= b : \",a >= b) \n",
        "  \n",
        "# a <= b is True \n",
        "print(\"a <= b : \",a <= b) "
      ],
      "execution_count": null,
      "outputs": []
    },
    {
      "cell_type": "markdown",
      "metadata": {
        "id": "qXLTfgoKeIk8"
      },
      "source": [
        "## Short Hand Operators\n",
        "\n",
        "| Operator | Description                                                  | Syntax             |\n",
        "| -------- | ------------------------------------------------------------ | ------------------ |\n",
        "| +=       | Add AND: Add right side operand with left side operand and then assign to left operand | a+=b     a=a+b     |\n",
        "| -=       | Subtract AND: Subtract right operand from left operand and then assign to left operand | a-=b       a=a-b   |\n",
        "| *=       | Multiply AND: Multiply right operand with left operand and then assign to left operand | a*=b       a=a*b   |\n",
        "| /=       | Divide AND: Divide left operand with right operand and then assign to left operand | a/=b         a=a/b |\n",
        "| %=       | Modulus AND: Takes modulus using left and right operands and assign result to left operand | a%=b   a=a%b       |\n",
        "| //=      | Divide(floor) AND: Divide left operand with right operand and then assign the value(floor) to left operand | a//=b       a=a//b |"
      ]
    },
    {
      "cell_type": "code",
      "metadata": {
        "id": "Sv-RbK9EeIk9"
      },
      "source": [
        "# Shorthand Operators - Illustration\n",
        "# Examples of Shorthand Operator \n",
        "a = 9\n",
        "b = 4\n",
        "print(\"Initial value of a : \",a)\n",
        "print(\"Initial value of b : \",b)\n",
        "# Addition of numbers \n",
        "a += b\n",
        "print(\"a += b : \",a)\n",
        "print(\"New value of a = \",a)\n",
        "print(\"New value of b = \",b)\n",
        "print(\"\\n\")\n",
        "# Subtraction of numbers  \n",
        "a -= b;\n",
        "print(\"a -= b : \",a)\n",
        "print(\"New value of a = \",a)\n",
        "print(\"New value of b = \",b)\n",
        "print(\"\\n\")\n",
        "# Multiplication of number  \n",
        "a *= b \n",
        "print(\"a *= b : \",a)\n",
        "print(\"New value of a = \",a)\n",
        "print(\"New value of b = \",b)\n",
        "print(\"\\n\")\n",
        "\n",
        "# Division(float) of number  \n",
        "a /= b \n",
        "print(\"a /= b : \",a)\n",
        "print(\"New value of a = \",a)\n",
        "print(\"New value of b = \",b)\n",
        "print(\"\\n\")\n",
        "\n",
        "\n",
        "# Division(floor) of number  \n",
        "a //= b \n",
        "print(\"a //= b : \",a)\n",
        "print(\"New value of a = \",a)\n",
        "print(\"New value of b = \",b)\n",
        "print(\"\\n\")\n",
        "\n",
        "\n",
        "# Modulo of both number \n",
        "a %= b \n",
        "print(\"a %= b : \",a)\n",
        "print(\"New value of a = \",a)\n",
        "print(\"New value of b = \",b)\n",
        "print(\"\\n\")\n",
        "\n"
      ],
      "execution_count": null,
      "outputs": []
    },
    {
      "cell_type": "markdown",
      "metadata": {
        "id": "BCJsApAZeIk9"
      },
      "source": [
        "# Taking Input from user\n"
      ]
    },
    {
      "cell_type": "code",
      "metadata": {
        "id": "8EQXFoCBeIk-"
      },
      "source": [
        "print(\"Enter your name : \")\n",
        "a = input()"
      ],
      "execution_count": null,
      "outputs": []
    },
    {
      "cell_type": "markdown",
      "metadata": {
        "id": "cEPmUcOCeIk-"
      },
      "source": [
        "# Conditional Statements"
      ]
    },
    {
      "cell_type": "markdown",
      "metadata": {
        "id": "AhZMJ-4veIk-"
      },
      "source": [
        "# If else statements\n"
      ]
    },
    {
      "cell_type": "code",
      "metadata": {
        "id": "OuH3KtyfeIk_"
      },
      "source": [
        "# if(condition):\n",
        "#     true block\n",
        "# else:\n",
        "#     false block\n",
        "a = int(input())\n",
        "b = 36\n",
        "if b > a:\n",
        "    print(\"b is greater than a\")\n",
        "elif a > b:\n",
        "    print(\"a is greater than b\")\n",
        "else:\n",
        "    print(\"a and b are equal\")"
      ],
      "execution_count": null,
      "outputs": []
    },
    {
      "cell_type": "markdown",
      "metadata": {
        "id": "4mOAX0aieIk_"
      },
      "source": [
        "# Loops"
      ]
    },
    {
      "cell_type": "markdown",
      "metadata": {
        "id": "tzqj6lvxeIk_"
      },
      "source": [
        "# While Loops"
      ]
    },
    {
      "cell_type": "code",
      "metadata": {
        "id": "v-IEYwv-eIlA"
      },
      "source": [
        "i = 0 # I here is the iterator variable used to keep a track of number of iterations.\n",
        "while i < 6:\n",
        "  i += 1 \n",
        "  if i == 3:\n",
        "    continue\n",
        "  print(i)  \n",
        "  if i == 5:\n",
        "    break\n",
        "    "
      ],
      "execution_count": null,
      "outputs": []
    },
    {
      "cell_type": "markdown",
      "metadata": {
        "id": "mS1Y0xFneIlA"
      },
      "source": [
        "# For Loops"
      ]
    },
    {
      "cell_type": "code",
      "metadata": {
        "id": "R4RkvsO8eIlA"
      },
      "source": [
        "for x in range(6): # Default case for loop\n",
        "  print(x)"
      ],
      "execution_count": null,
      "outputs": []
    },
    {
      "cell_type": "code",
      "metadata": {
        "id": "tBScJcbleIlB"
      },
      "source": [
        "#Defining the start stop value\n",
        "# notice how 6 isn't printed because python read it as [2,6)\n",
        "  \n",
        "for x in range(2,6): \n",
        "  print(x)"
      ],
      "execution_count": null,
      "outputs": []
    },
    {
      "cell_type": "code",
      "metadata": {
        "id": "j-_lR3fgeIlB"
      },
      "source": [
        "for x in range(2, 30, 3): # Defining the increment, see how it starts from 2 and prints every 3rd value from 2 till 30.\n",
        "    print(x)"
      ],
      "execution_count": null,
      "outputs": []
    },
    {
      "cell_type": "markdown",
      "metadata": {
        "id": "HFSddh5yeIlB"
      },
      "source": [
        "# Creating a Function\n",
        "\n",
        "- In Python a function is defined using the def keyword:"
      ]
    },
    {
      "cell_type": "code",
      "metadata": {
        "id": "4h5SsmifeIlC"
      },
      "source": [
        "def my_function():\n",
        "  print(\"Hello from a function.\")"
      ],
      "execution_count": null,
      "outputs": []
    },
    {
      "cell_type": "code",
      "metadata": {
        "id": "f_3u0SjoeIlC"
      },
      "source": [
        "def function_2(fname):\n",
        "  return(fname + \" Stark\")"
      ],
      "execution_count": null,
      "outputs": []
    },
    {
      "cell_type": "markdown",
      "metadata": {
        "id": "0xKXoDSneIlC"
      },
      "source": [
        "# Calling a Function\n",
        "\n",
        "- To call a function, use the function name followed by parenthesis:"
      ]
    },
    {
      "cell_type": "code",
      "metadata": {
        "id": "oT4JngVGeIlC"
      },
      "source": [
        "my_function()"
      ],
      "execution_count": null,
      "outputs": []
    },
    {
      "cell_type": "code",
      "metadata": {
        "id": "8dXbTYbHeIlD"
      },
      "source": [
        "function_2(\"Tony\")"
      ],
      "execution_count": null,
      "outputs": []
    },
    {
      "cell_type": "markdown",
      "metadata": {
        "id": "ktSYwW-2eIlD"
      },
      "source": [
        "# NOTE \n",
        "- If a function returns a value as function_2 then we can store the returned value into a variable as well as following :"
      ]
    },
    {
      "cell_type": "code",
      "metadata": {
        "id": "NixM85IveIlD"
      },
      "source": [
        "name = function_2(\"Morgan\")\n",
        "print(name)"
      ],
      "execution_count": null,
      "outputs": []
    },
    {
      "cell_type": "code",
      "metadata": {
        "id": "RD7IcscLeIlE"
      },
      "source": [
        "numbers = [10, 12, 15, 18, 20]\n",
        "fruits = (\"apple\", \"pineapple\", \"blueberry\")\n",
        "message = \"I love Python ❤️\""
      ],
      "execution_count": null,
      "outputs": []
    },
    {
      "cell_type": "code",
      "metadata": {
        "id": "ylBEpF3QeIlE"
      },
      "source": [
        "print(\"Type of numbers is : \",type(numbers))\n",
        "print(\"Type of fruits is : \",type(fruits))\n",
        "print(\"Type of message is : \",type(message))\n",
        "\n",
        "#  There are other functions which you can call upon "
      ],
      "execution_count": null,
      "outputs": []
    },
    {
      "cell_type": "markdown",
      "metadata": {
        "id": "uejrHuBGeIlE"
      },
      "source": [
        "# Mini Project 1 => Marvel Quotes Generator"
      ]
    },
    {
      "cell_type": "code",
      "metadata": {
        "id": "n1PhToMfeIlF"
      },
      "source": [
        "print(\"\\nHeyy there! Welcome to Marvel quotes machine.\\n\")\n",
        "print(\"What is your name human ?\\n\")\n",
        "user_name = input()\n",
        "print(f\"\\nHeyy {user_name}, select corresponding numbers in front of your favorite superhero/villain to get one or two quotes related to them ;) \")\n",
        "print(\"\\n 1. Captain America\\n 2. Iron Man\\n 3. Spiderman\\n 4. Hulk\\n 5. Thor\\n 6. Thanos\\n 7. Wolverine\\n 8. Gamora\\n\")\n",
        "char_name = input(\"Enter your superhero/villain serial no. here: \")\n",
        "\n",
        "if char_name ==  \"1\":\n",
        "    print(f\"\\nHeyy {user_name}, here are some Captain America quotes:\\n\")\n",
        "    print(\"1. I don’t want to kill anyone. I don’t like bullies; I don’t care where they’re from.\")\n",
        "    print(\"2. I can do this all day.\")\n",
        "\n",
        "\n",
        "elif char_name == \"2\":\n",
        "    print(f\"\\nHeyy {user_name}, here are some Ironman quotes:\\n\")\n",
        "    print(\"1. “I TOLD YOU. I DON’T WANT TO JOIN YOUR SUPER-SECRET BOY BAND.”\")\n",
        "    print(\"2. DOTH MOTHER KNOW YOU WEARETH HER DRAPES.\")\n",
        "    print(\"3. HAVE YOU EVER TRIED SHAWARMA… I DON’T KNOW WHAT IT IS, BUT I WANNA TRY IT.\")\n",
        "    print(\"4. GENIUS, BILLIONAIRE, PLAYBOY, PHILANTHROPIST.\")\n",
        "    print(\"5. YOU KNOW, IT'S MOMENTS LIKE THESE WHEN I REALIZE WHAT A SUPERHERO I AM.\\n\")\n",
        "\n",
        "elif char_name == \"3\":\n",
        "    print(f\"\\nHeyy {user_name}, here are some Spiderman quotes:\\n\")\n",
        "    print(\"1. Secrets have a cost, they are not for free.\")\n",
        "    print(\"2. You have a metal arm? Dude, that is so awesome!\\n\")\n",
        "\n",
        "\n",
        "elif char_name == \"4\":\n",
        "    print(f\"\\nHeyy {user_name}, here are some Hulk quotes:\\n\")\n",
        "    print(\"1. Hulk, SMASH!\\n\")\n",
        "\n",
        "elif char_name == \"5\":\n",
        "    print(f\"\\nHeyy {user_name}, here are some Thor quotes:\\n\")\n",
        "    print(\"1. Do I look to be in a gaming mood?\")\n",
        "    print(\"2. You people are so petty, and tiny.\")\n",
        "    print(\"3. You’re big. I’ve fought bigger.\")\n",
        "    print(\"4. You should know that when you betray me, I will kill you.\")\n",
        "    print(\"5. Fortunately, I am mighty!\\n\")\n",
        "\n",
        "elif char_name == \"6\":\n",
        "    print(f\"\\nHeyy {user_name}, here are some Thanos quotes:\\n\")\n",
        "    print(\"1. Fun isn’t something one considers when balancing the universe. But this… does put a smile on my face.\")\n",
        "    print(\"2. When I’m done, half of humanity will still exist. Perfectly balanced, as all things should be. I hope they remember you.\")\n",
        "    print(\"3.You’re strong. But I could snap my fingers, and you’d all cease to exist.\")\n",
        "    print(\"4. I know what it’s like to lose. To feel so desperately that you’re right, yet to fail nonetheless. Dread it. Run from it. Destiny still arrives. Or should I say, I have.\")\n",
        "    print(\"5. The hardest choices require the strongest wills.\\n\")\n",
        "\n",
        "elif char_name == \"7\":\n",
        "    print(f\"\\nHeyy {user_name}, here are some Wolverine quotes:\\n\")\n",
        "    print(\"1. You might remember that 'annoyed' is my natural state.\")\n",
        "    print(\"2. I'm the best there is at what I do but what I do best isn't very nice.\")\n",
        "    print(\"3. Sometimes, when you cage the beast, the beast gets angry.\")\n",
        "    print(\"4. Nature made me a freak. Man made me a weapon. And God made it last too long.\\n\")\n",
        "\n",
        "elif char_name == \"8\":\n",
        "    print(f\"\\nHeyy {user_name}, here are some Gamora quotes:\\n\")\n",
        "    print(\"1. I go by many names, Earthian, but I'm sure the one that most know me by is Gamora, the deadliest woman in the whole galaxy.\")\n",
        "\n",
        "else:\n",
        "    print(f\"Bad luck {user_name}. To get quotes just enter a number like 1 or 4. Program will exit now. Try running it again if you need a quote. :) \\n\")\n"
      ],
      "execution_count": null,
      "outputs": []
    },
    {
      "cell_type": "markdown",
      "metadata": {
        "id": "agC7fH-TeIlG"
      },
      "source": [
        "# Mini Project => 2 Rock, Paper, Scissors"
      ]
    },
    {
      "cell_type": "code",
      "metadata": {
        "id": "vnDW14AoeIlG"
      },
      "source": [
        "#The less basic version for rock paper scissors.\n",
        "\n",
        "print(\"                            ...Rock...    \")\n",
        "print(\"                            ...Paper...   \")\n",
        "print(\"                            ...Scissors...  \\n \\n\")\n",
        "\n",
        "from random import *\n",
        "# Computer opponent picks random thing.\n",
        "# random.randint(0,2)\n",
        "# We are including the module called random it is like the code that is already built in python but it is not fully built in the sense that you have to import it.\n",
        "# from module_name import module_specific_function\n",
        "# module_name.module_function(parameters )\n",
        "# Touch rps_5.py\n",
        "# random.randint(a,b) Returns a random integer N such that a <= N <= b that is including the extreme values as well.\n",
        "#Now we use this to write a conditional set of instructions that says that if the random is zero or one or two then computer is equal to rock paper or scissors keeping the subsets of player1 and player 2 same \n",
        "# Only difference being is that now we have computer and only one player.\n",
        "# Making a variable to store the value received from the random integer module.\n",
        "# player = input(\"Player, make your move: \").lower()\n",
        "# rand_num = randint(0,2)\n",
        "# # We can do from 1 to 3 or -5 to -7 or any 3 numbers that we want but we are doing this zero indexed as things are in computer generally.\n",
        "\n",
        "\n",
        "player = input(\"Player, make your move: \").lower()\n",
        "rand_num = randint(0,2)\n",
        "if rand_num == 0:\n",
        "\tcomputer = \"rock\"\n",
        "elif rand_num == 1:\n",
        "\tcomputer = \"paper\"\n",
        "else:\n",
        "\tcomputer = \"scissors\"\n",
        "\n",
        "print(f\"Computer plays \" + computer )\n",
        "\n",
        "if player == computer:\n",
        "\tprint(\"It's a tie!\")\n",
        "elif player == \"rock\":\n",
        "\tif computer == \"scissors\":\n",
        "\t\tprint(\"player wins!\")\n",
        "\telse:\n",
        "\t\tprint(\"computer wins!\")\n",
        "elif player == \"paper\":\n",
        "\tif computer == \"rock\":\n",
        "\t\tprint(\"player wins!\")\n",
        "\telse:\n",
        "\t\tprint(\"computer wins!\")\n",
        "elif player == \"scissors\":\n",
        "\tif computer == \"paper\":\n",
        "\t\tprint(\"player wins!\")\n",
        "\telse:\n",
        "\t\tprint(\"computer wins!\")\t\n",
        "else:\n",
        "\tprint(\"Please enter a valid move!\")"
      ],
      "execution_count": null,
      "outputs": []
    },
    {
      "cell_type": "markdown",
      "metadata": {
        "id": "Y_2ohC8ReIlH"
      },
      "source": [
        "# LISTS\n",
        "- Pt 1\n",
        "- Pt 2"
      ]
    },
    {
      "cell_type": "markdown",
      "metadata": {
        "id": "n94wVF6FeIlH"
      },
      "source": [
        "# Resources and FAQ\n",
        "\n",
        "## Text :\n",
        "- [Automating the Boring Stuff with Python](https://automatetheboringstuff.com/?source=post_page---------------------------)\n",
        "- [Learning Python The Hard Way](https://www.souravsengupta.com/cds2015/python/LPTHW.pdf?source=post_page---------------------------)\n",
        "\n",
        "## Videos :\n",
        "- [Python for Everybody](https://www.coursera.org/specializations/python)\n",
        "- [The New Boston Python Tutorials](https://www.youtube.com/playlist?list=PL6gx4Cwl9DGAcbMi1sH6oAMk4JHw91mC_&source=post_page---------------------------)\n",
        "\n",
        "## Interactive :\n",
        "- [Codecademy's Python Course](https://www.codecademy.com/learn/learn-python?source=post_page---------------------------)\n",
        "- [Hackerrank's PYTHON Domain](https://www.hackerrank.com/domains/python?source=post_page---------------------------)\n",
        "- [LearnPython.org](https://www.learnpython.org/?source=post_page---------------------------)\n",
        "\n",
        "## Practice :\n",
        "- [Project Euler](https://www.hackerrank.com/contests/projecteuler/challenges?source=post_page---------------------------)\n",
        "- [Python Challenge](http://www.pythonchallenge.com/?source=post_page---------------------------)\n",
        "\n",
        "NOTE : ‘Practice’ is not for beginners but will be helpful once you are comfortable with writing Python code. "
      ]
    }
  ]
}