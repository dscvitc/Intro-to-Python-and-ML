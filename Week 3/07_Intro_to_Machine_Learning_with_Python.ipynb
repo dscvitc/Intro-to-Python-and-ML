{
  "nbformat": 4,
  "nbformat_minor": 0,
  "metadata": {
    "kernelspec": {
      "display_name": "Python 3",
      "language": "python",
      "name": "python3"
    },
    "language_info": {
      "codemirror_mode": {
        "name": "ipython",
        "version": 3
      },
      "file_extension": ".py",
      "mimetype": "text/x-python",
      "name": "python",
      "nbconvert_exporter": "python",
      "pygments_lexer": "ipython3",
      "version": "3.6.5"
    },
    "toc": {
      "base_numbering": 1,
      "nav_menu": {},
      "number_sections": true,
      "sideBar": true,
      "skip_h1_title": false,
      "title_cell": "Table of Contents",
      "title_sidebar": "Contents",
      "toc_cell": false,
      "toc_position": {},
      "toc_section_display": true,
      "toc_window_display": false
    },
    "varInspector": {
      "cols": {
        "lenName": 16,
        "lenType": 16,
        "lenVar": 40
      },
      "kernels_config": {
        "python": {
          "delete_cmd_postfix": "",
          "delete_cmd_prefix": "del ",
          "library": "var_list.py",
          "varRefreshCmd": "print(var_dic_list())"
        },
        "r": {
          "delete_cmd_postfix": ") ",
          "delete_cmd_prefix": "rm(",
          "library": "var_list.r",
          "varRefreshCmd": "cat(var_dic_list()) "
        }
      },
      "types_to_exclude": [
        "module",
        "function",
        "builtin_function_or_method",
        "instance",
        "_Feature"
      ],
      "window_display": false
    },
    "colab": {
      "name": "07_Intro_to_Machine_Learning_with_Python.ipynb",
      "provenance": []
    }
  },
  "cells": [
    {
      "cell_type": "markdown",
      "metadata": {
        "id": "G8k8RiexN4JH"
      },
      "source": [
        "\n",
        "# Machine Learning with Python"
      ]
    },
    {
      "cell_type": "markdown",
      "metadata": {
        "id": "EG574jrnN4JI"
      },
      "source": [
        "**Here we will understand how we will be using Python for Machine Learning and how we will use Sci-Kit Learn package.**\n",
        "\n",
        "**Scikit Learn** is the most popular machine learning package for python and has a lot of algorithms already built-in.\n",
        "\n",
        "## Installation\n",
        "\n",
        "* **conda install scikit-learn**\n",
        "* **pip install scikit-learn**\n"
      ]
    },
    {
      "cell_type": "markdown",
      "metadata": {
        "id": "CLBI9qUlN4JK"
      },
      "source": [
        "## Basic Structure of Scikit-Learn (sklearn)\n",
        "\n",
        "\n",
        "<img src=\"https://raw.githubusercontent.com/dscvitc/Intro-to-Python-and-ML/main/Week%203/image.png\">\n",
        "\n",
        "* As we can see machine learning process starts off with data, followed by data cleaning and data formatting so that ML model can accept it. \n",
        "* Before giving the data to ML model we have to split the data into a test and training set. Goal is to train our model on training set and then test our model on the test set. \n",
        "* Then we iterate the model and tune our parameters until model is ready to deploy.\n"
      ]
    },
    {
      "cell_type": "markdown",
      "metadata": {
        "id": "OuYpJcSwN4JM"
      },
      "source": [
        "## An example of using Scikit-Learn\n",
        "\n",
        "Do not worry about memorizing these steps, we will see these in subsequent lectures and you will get used to these once you start doing these on your own. This is just an overview.\n",
        "\n",
        "1. Every Algo is exposed in scikit-learn via an \"Estimator\". First you'll import the model, the general form is \n",
        "\n",
        "```python\n",
        "from sklearn.family import Model\n",
        "For example : \n",
        "from sklearn.linear_model import LinearRegression\n",
        "```\n",
        "2. Next step is to instantiate the model, in our case it is LinearRegression\n",
        "\n",
        "**Estimator Parameters :** All the parameters of an estimator can be set when it is instantiated, and has suitable default values. We can use shift+tab in jupyter to check the possible parameters.\n",
        "\n",
        "For example \n",
        "```python\n",
        "model = LinearRegression(normalize=True)\n",
        "print(model) \n",
        "\n",
        "LinearRegression(copy_X=True,fit_intercept=True,normalize=True)\n",
        "```\n",
        "\n",
        "We only need to tune the parameters when we are looking for something more specific.\n",
        "\n",
        "3. Once model is created then we move towards fitting model with some data, also remember that we should split the data into a training and test set. Below is an example for the same."
      ]
    },
    {
      "cell_type": "code",
      "metadata": {
        "ExecuteTime": {
          "end_time": "2019-05-24T09:57:48.614503Z",
          "start_time": "2019-05-24T09:57:48.610478Z"
        },
        "id": "cw1nBtbbN4JO",
        "outputId": "119c0cd7-f4ba-4faa-fb5e-89be2896a608"
      },
      "source": [
        "import numpy as np # Create dummy data\n",
        "from sklearn.linear_model import LinearRegression\n",
        "model = LinearRegression(normalize=True)\n",
        "from sklearn.model_selection import  train_test_split # Splitting dummy data into testing and training set\n",
        "X,y = np.arange(10).reshape((5,2)), range(5) # Sets of data X and y, X are the actual features and y are the label for X\n",
        "X"
      ],
      "execution_count": null,
      "outputs": [
        {
          "output_type": "execute_result",
          "data": {
            "text/plain": [
              "array([[0, 1],\n",
              "       [2, 3],\n",
              "       [4, 5],\n",
              "       [6, 7],\n",
              "       [8, 9]])"
            ]
          },
          "metadata": {
            "tags": []
          },
          "execution_count": 43
        }
      ]
    },
    {
      "cell_type": "code",
      "metadata": {
        "ExecuteTime": {
          "end_time": "2019-05-24T09:57:49.251514Z",
          "start_time": "2019-05-24T09:57:49.246527Z"
        },
        "id": "8TrkgDjKN4JS",
        "outputId": "eb9a0125-9a1e-4fdf-d388-069d68edb062"
      },
      "source": [
        "#Using train test split we pass in X and y and test_size\n",
        "X_train, X_test, y_train, y_test = train_test_split(X, y, test_size=0.3)\n",
        "X_train\n",
        "# train_test_split takes X and y and it takes test_size, sklearn will automatically output our training set and testing set\n",
        "\n",
        "# so we have X_train and y_train and then X_test and y_test"
      ],
      "execution_count": null,
      "outputs": [
        {
          "output_type": "execute_result",
          "data": {
            "text/plain": [
              "array([[0, 1],\n",
              "       [8, 9],\n",
              "       [2, 3]])"
            ]
          },
          "metadata": {
            "tags": []
          },
          "execution_count": 44
        }
      ]
    },
    {
      "cell_type": "code",
      "metadata": {
        "ExecuteTime": {
          "end_time": "2019-05-24T09:57:49.771247Z",
          "start_time": "2019-05-24T09:57:49.768256Z"
        },
        "id": "hgkAZ0OcN4JT",
        "outputId": "05690575-9302-4362-de4c-d7a7de5baf56"
      },
      "source": [
        "y_train #We have labels for our training and testing data as well as features for training and testing data"
      ],
      "execution_count": null,
      "outputs": [
        {
          "output_type": "execute_result",
          "data": {
            "text/plain": [
              "[0, 4, 1]"
            ]
          },
          "metadata": {
            "tags": []
          },
          "execution_count": 45
        }
      ]
    },
    {
      "cell_type": "code",
      "metadata": {
        "ExecuteTime": {
          "end_time": "2019-05-24T09:57:50.666404Z",
          "start_time": "2019-05-24T09:57:50.608389Z"
        },
        "id": "YpgwkLm8N4JV",
        "outputId": "8d6cfcca-0da1-4496-fb19-bfc73765e262"
      },
      "source": [
        "#After splitting the data we can train/fit the model based on training data, done through model.fit() method\n",
        "\n",
        "model.fit(X_train,y_train)\n",
        "\n",
        "# We take the model and then we say model.fit() and we pass in our training data where X_train are features of our data and\n",
        "# then we pass in y_train which are training labels. After the model has been trained and fit on training data, the model is\n",
        "# ready to predict labels or values on the test set. This is an example of supervised learning process, process is different for\n",
        "# unsupervised method, we get the predicted values using predict method.\n"
      ],
      "execution_count": null,
      "outputs": [
        {
          "output_type": "execute_result",
          "data": {
            "text/plain": [
              "LinearRegression(copy_X=True, fit_intercept=True, n_jobs=None, normalize=True)"
            ]
          },
          "metadata": {
            "tags": []
          },
          "execution_count": 46
        }
      ]
    },
    {
      "cell_type": "code",
      "metadata": {
        "ExecuteTime": {
          "end_time": "2019-05-24T09:58:57.545612Z",
          "start_time": "2019-05-24T09:58:57.542620Z"
        },
        "id": "USe5VZuJN4JW"
      },
      "source": [
        "# We get predictions using predict method called upon feature or X_test and we predict for y_test or label\n",
        "\n",
        "predictions = model.predict(X_test)"
      ],
      "execution_count": null,
      "outputs": []
    },
    {
      "cell_type": "markdown",
      "metadata": {
        "id": "wNdNN57UN4JW"
      },
      "source": [
        "* Now we can evaluate our model by comparing our predictions to correct values. Evaluation depends on what sort of ML algorithm are we using say Regression, Classification, Clustering etc.\n",
        "\n",
        "# Recap\n",
        "\n",
        "* Scikit-learn aims to have a uniform interface across all methods.\n",
        "* Given a scikit-learn estimator object named model, the following methods are available : \n",
        "\n",
        "## Available in all Estimators \n",
        "    * model.fit() : fit training data\n",
        "    * For supervised learning applications, this accepts 2 arguments: the data X and labels y e.g. model.fit(X,y)\n",
        "    * For unsupervised learning applications, this accepts only a single argument, the data or feature X e.g. model.fit(X) as unsupervised learning works with unlabelled data.\n",
        "    \n",
        "### Available in supervised estimators :\n",
        "    \n",
        "    * model.predict(): given a trained model, predict the label of a new set of data. This method accepts one argument, the new data X_new e.g. model.predict(X_new) and returns the learned label for each object in the array.\n",
        "    \n",
        "    * model.predict_proba() : Also available in supervised estimators there is this method, for classification problems, some estimators provide this method, which returns the probability that a new observation has each categorical label. In this case the label with highest probability is returned by model.predict().\n",
        "    \n",
        "    * model.score() : For classification or regression problems, most estimators implement a score method. Scores are between 0 and 1 with a large score indicating a better fit.\n",
        "    \n",
        "### Available in unsupervised estimators : \n",
        "\n",
        "\n",
        "    * model.predict() : Predict labels in clustering algorithms.\n",
        "    \n",
        "    * model.transform() : Given an unsupervised model, transform new data into the new basis. This also accepts one argument X_new and returns the new representation of the data based on the unsupervised model.\n",
        "    \n",
        "    * model.fit_transform() : Some estimators implement this method, which more efficiently performs a fit and transform on the same input data."
      ]
    },
    {
      "cell_type": "markdown",
      "metadata": {
        "id": "JarDbSLLN4JY"
      },
      "source": [
        "## Choosing an algorithm\n",
        "<img src=\"https://raw.githubusercontent.com/dscvitc/Intro-to-Python-and-ML/main/Week%203/image.png\">"
      ]
    },
    {
      "cell_type": "code",
      "metadata": {
        "id": "mqhLnXG2N4JZ"
      },
      "source": [
        ""
      ],
      "execution_count": null,
      "outputs": []
    }
  ]
}